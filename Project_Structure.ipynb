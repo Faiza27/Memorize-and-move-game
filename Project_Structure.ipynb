{
  "nbformat": 4,
  "nbformat_minor": 0,
  "metadata": {
    "colab": {
      "name": "Project_Structure.ipynb",
      "provenance": []
    },
    "kernelspec": {
      "name": "python3",
      "display_name": "Python 3"
    }
  },
  "cells": [
    {
      "cell_type": "markdown",
      "metadata": {
        "id": "iV0Q1PLRPjl8",
        "colab_type": "text"
      },
      "source": [
        "# **Project Stucture**"
      ]
    },
    {
      "cell_type": "markdown",
      "metadata": {
        "id": "kGjjnZXR5EHu",
        "colab_type": "text"
      },
      "source": [
        "# This structure might need to be changed slightly according to your thinking"
      ]
    },
    {
      "cell_type": "code",
      "metadata": {
        "id": "cIuFg31cxTzs",
        "colab_type": "code",
        "colab": {}
      },
      "source": [
        "#Structur of code\n",
        "def Game_State_Sign(x,y,level):\n",
        "  #Function body"
      ],
      "execution_count": null,
      "outputs": []
    },
    {
      "cell_type": "code",
      "metadata": {
        "id": "4iXgvJxWC0rv",
        "colab_type": "code",
        "colab": {}
      },
      "source": [
        "def Game_State_Coordinate(x,y,level):\n",
        "  Obstacle_list = Game_dict[level]['Obstacle_coordinates']\n",
        "  Advantage_list = Game_dict[level]['Advantage_coordinates']\n",
        "  Size = Game_dict[level]['Size']\n",
        "  for i in range(0, Size):\n",
        "    for j in range(0, Size):\n",
        "      list_ij=[i,j]\n",
        "      if (i==x and j==y):\n",
        "        print(\"\\033[0;37;44m    s \",end='  ')\n",
        "      elif (list_ij in Obstacle_list):\n",
        "        print(\"\\033[0;37;41m {:2.0f},\".format(i),j,end='  ')\n",
        "      elif (list_ij in Advantage_list):\n",
        "        print(\"\\033[0;37;42m {:2.0f},\".format(i),j,end='  ')\n",
        "      elif (i==9 and j==9):\n",
        "        print(\"\\033[0;37;45m    e \",end='  ')\n",
        "      else:\n",
        "        print(\"\\033[0;30;47m {:2.0f},\".format(i),j,end='  ')\n",
        "    print('\\n')"
      ],
      "execution_count": null,
      "outputs": []
    },
    {
      "cell_type": "code",
      "metadata": {
        "id": "Xup5ATNpC583",
        "colab_type": "code",
        "colab": {}
      },
      "source": [
        "def Game_State(x,y,level):\n",
        "  #Function body\n",
        "  Game_State_Sign(x,y,level)\n",
        "  Game_Sate_Coordinate(x,y,level)"
      ],
      "execution_count": null,
      "outputs": []
    },
    {
      "cell_type": "code",
      "metadata": {
        "id": "_4XwvX9JC_Pe",
        "colab_type": "code",
        "colab": {}
      },
      "source": [
        "def Jump(x,y):\n",
        "  #Function body\n",
        "  return present x,y"
      ],
      "execution_count": null,
      "outputs": []
    },
    {
      "cell_type": "code",
      "metadata": {
        "id": "nfHJPYzoDDXa",
        "colab_type": "code",
        "colab": {}
      },
      "source": [
        "def Move(x,y):\n",
        "  #Function body\n",
        "  Jump()\n",
        "  return present x,y"
      ],
      "execution_count": null,
      "outputs": []
    },
    {
      "cell_type": "code",
      "metadata": {
        "id": "yE-9QpX0DGky",
        "colab_type": "code",
        "colab": {}
      },
      "source": [
        "def Undo(past x,y):\n",
        "  return past x,y"
      ],
      "execution_count": null,
      "outputs": []
    },
    {
      "cell_type": "code",
      "metadata": {
        "id": "jPHlcK_5DJkX",
        "colab_type": "code",
        "colab": {}
      },
      "source": [
        "def Point():\n",
        "  #Function body\n",
        "  #May be you need to store past x,y before making any move \n",
        "  #because you may need to undo the move if it's out of bound\n",
        "  command=input()\n",
        "  #conditions and logics \n",
        "  x,y = Undo()\n",
        "  x,y = Move(x,y)\n",
        "  Game_State(x,y,level)\n",
        "  return  Game_Denoter"
      ],
      "execution_count": null,
      "outputs": []
    },
    {
      "cell_type": "code",
      "metadata": {
        "id": "bdGf-m2UDMT4",
        "colab_type": "code",
        "colab": {}
      },
      "source": [
        "print(\"Welcome to 'Memorize your move' game!\")\n",
        "print(\"Rules of games: 1. You will lose one life for going out of bound...\")\n",
        "print(\"How to play: Press 8 for going up, ...... 5 for jump then ..... Press 0 for showing game state\")\n",
        "print(\"Choose your level: Press 1 for Easy .....\")\n",
        "Game_level=input()\n",
        "#Put condition for each level here\n",
        "print(\"In this level you will get {} lives .....\")\n",
        "print(\"Memorize your present coordinate and obstacles ......\")\n",
        "print(\"Start making moves..\")\n",
        "Game_Denoter=True #only change to false when life will be zero or you reached the end\n",
        "while(Game_Denoter):\n",
        "  Game_Denoter= Point()"
      ],
      "execution_count": null,
      "outputs": []
    },
    {
      "cell_type": "markdown",
      "metadata": {
        "id": "xRbA0uqu5_q0",
        "colab_type": "text"
      },
      "source": [
        "# The dictionary we made for this project"
      ]
    },
    {
      "cell_type": "markdown",
      "metadata": {
        "id": "rt27NZxiHGSc",
        "colab_type": "text"
      },
      "source": [
        "For each level-  \n",
        "\n",
        "*   Size means the game size\n",
        "*   Life means number of lives\n",
        "*   Jump means number of jumps\n",
        "*   Obstacle means number of obstacles\n",
        "*   Advantage means number of advantages\n",
        "*   Obstacle_coordinate means list of coordinates where obstacles exist\n",
        "*   Advantage_coordinate means list of coordinates where advantages exist\n",
        "\n",
        "\n"
      ]
    },
    {
      "cell_type": "code",
      "metadata": {
        "id": "EZ1B11_Z5-aV",
        "colab_type": "code",
        "colab": {}
      },
      "source": [
        "Game_dict={'Easy':{'Size':10, 'Life':5, 'Jump':5, 'Obstacle':10, 'Advantage':20,\n",
        "                   'Obstacle_coordinates':[[3, 4],[ 4, 6], [6, 0], [7, 1], [8, 1], [7, 3], [1, 0], [8, 0], [9, 2], [2, 9]],\n",
        "\n",
        "                   'Advantage_coordinates':[[5, 6], [7, 2], [7, 4], [1, 0], [6, 5], [1, 0], [2, 4], [6, 6], [2, 3], [4, 9],\n",
        "                                            [3, 2], [0, 9], [0, 7], [1, 5], [7, 0], [9, 5],[4, 4], [3, 8], [3, 5], [5, 3]]}, \n",
        "           \n",
        "           'Medium':{'Size':20, 'Life':8, 'Jump':10,'Obstacle':15, 'Advantage':25,\n",
        "                     'Obstacle_coordinates':[[19, 20], [6, 16], [16, 6], [4, 4], [12, 6], [15, 10], [18, 10], [11, 9], [15, 17], [15, 9], [3, 1], [2, 16],\n",
        "                                             [19, 19], [3, 2],[0, 3]],\n",
        "                     \n",
        "                     'Advantage_coordinates': [[8, 8], [13, 15], [2, 8], [2, 12], [1, 4], [13, 5], [6, 3], [8, 5], [15, 12], [14, 7],[2, 5], [9, 13], [5, 10], \n",
        "                                               [15, 8], [1, 4],[ 15, 11],[9, 12], [3, 11], [5, 14], [6, 13], [14, 16], [8, 3], [4, 17], [10, 11], [7, 11]]},\n",
        "           \n",
        "           'Hard':{'Size':25, 'Life':10, 'Jump':15, 'Obstacls':20, 'Advantage':35,\n",
        "                   'Obstacles_coordinates':[[10, 19],[ 5, 5],[ 18, 6],[ 16, 8], [13, 19], [19, 12], [15, 4], [16, 15], [1, 8], [8, 13], [14, 20], [17, 18],\n",
        "                                            [1, 9], [7, 19], [3, 1], [10, 7], [6, 1], [4, 5], [3, 10], [11, 4]],\n",
        "                   \n",
        "                   'Advantage_coordinates':[[2, 16], [6, 17], [9, 12], [18, 18], [12, 6], [4, 2], [1, 1], [18, 12], [11, 14], [12, 9], [17, 2], [19, 0], [16, 13], [0, 7],\n",
        "                                            [12, 0], [8, 15], [11, 3], [4, 16], [13, 16], [5, 19], [9, 1], [6, 18], [8, 7], [7, 17], [3, 1], [6, 18], [12, 1], [19, 1], [5, 2],\n",
        "                                            [9, 3], [9, 19], [16, 12], [3, 13], [3, 13], [5, 2]] }}\n"
      ],
      "execution_count": null,
      "outputs": []
    },
    {
      "cell_type": "markdown",
      "metadata": {
        "id": "BKn2DLPBMQWj",
        "colab_type": "text"
      },
      "source": [
        "# Demonstration"
      ]
    },
    {
      "cell_type": "code",
      "metadata": {
        "id": "HMtX10tCMS18",
        "colab_type": "code",
        "colab": {}
      },
      "source": [
        "def Game_State_Coordinate(x,y,level):\n",
        "  Obstacle_list = Game_dict[level]['Obstacle_coordinates']\n",
        "  Advantage_list = Game_dict[level]['Advantage_coordinates']\n",
        "  Size = Game_dict[level]['Size']\n",
        "  for i in range(0, Size):\n",
        "    for j in range(0, Size):\n",
        "      list_ij=[i,j]\n",
        "      if (i==x and j==y):\n",
        "        print(\"\\033[0;37;44m {:2.0f},\".format(i),j,end='  ')\n",
        "      elif (list_ij in Obstacle_list):\n",
        "        print(\"\\033[0;37;41m {:2.0f},\".format(i),j,end='  ')\n",
        "      elif (list_ij in Advantage_list):\n",
        "        print(\"\\033[0;37;42m {:2.0f},\".format(i),j,end='  ')\n",
        "      elif (i==9 and j==9):\n",
        "        print(\"\\033[0;37;45m {:2.0f},\".format(i),j,end='  ')\n",
        "      else:\n",
        "        print(\"\\033[0;30;47m {:2.0f},\".format(i),j,end='  ')\n",
        "    print('\\n')"
      ],
      "execution_count": null,
      "outputs": []
    },
    {
      "cell_type": "code",
      "metadata": {
        "id": "rLosopt_Ml6a",
        "colab_type": "code",
        "colab": {
          "base_uri": "https://localhost:8080/",
          "height": 33
        },
        "outputId": "718f909d-1fa6-4960-a84c-22b77c9b9a74"
      },
      "source": [
        "Game_level=input()"
      ],
      "execution_count": null,
      "outputs": [
        {
          "output_type": "stream",
          "text": [
            "Easy\n"
          ],
          "name": "stdout"
        }
      ]
    },
    {
      "cell_type": "code",
      "metadata": {
        "id": "V7o_LRgSMZvx",
        "colab_type": "code",
        "colab": {
          "base_uri": "https://localhost:8080/",
          "height": 351
        },
        "outputId": "472e373e-417a-4a81-a9f1-f61d370a9288"
      },
      "source": [
        "Game_State_Coordinate(2,3,Game_level)"
      ],
      "execution_count": null,
      "outputs": [
        {
          "output_type": "stream",
          "text": [
            "\u001b[0;30;47m  0, 0  \u001b[0;30;47m  0, 1  \u001b[0;30;47m  0, 2  \u001b[0;30;47m  0, 3  \u001b[0;30;47m  0, 4  \u001b[0;30;47m  0, 5  \u001b[0;30;47m  0, 6  \u001b[0;37;42m  0, 7  \u001b[0;30;47m  0, 8  \u001b[0;37;42m  0, 9  \n",
            "\n",
            "\u001b[0;37;41m  1, 0  \u001b[0;30;47m  1, 1  \u001b[0;30;47m  1, 2  \u001b[0;30;47m  1, 3  \u001b[0;30;47m  1, 4  \u001b[0;37;42m  1, 5  \u001b[0;30;47m  1, 6  \u001b[0;30;47m  1, 7  \u001b[0;30;47m  1, 8  \u001b[0;30;47m  1, 9  \n",
            "\n",
            "\u001b[0;30;47m  2, 0  \u001b[0;30;47m  2, 1  \u001b[0;30;47m  2, 2  \u001b[0;37;44m  2, 3  \u001b[0;37;42m  2, 4  \u001b[0;30;47m  2, 5  \u001b[0;30;47m  2, 6  \u001b[0;30;47m  2, 7  \u001b[0;30;47m  2, 8  \u001b[0;37;41m  2, 9  \n",
            "\n",
            "\u001b[0;30;47m  3, 0  \u001b[0;30;47m  3, 1  \u001b[0;37;42m  3, 2  \u001b[0;30;47m  3, 3  \u001b[0;37;41m  3, 4  \u001b[0;37;42m  3, 5  \u001b[0;30;47m  3, 6  \u001b[0;30;47m  3, 7  \u001b[0;37;42m  3, 8  \u001b[0;30;47m  3, 9  \n",
            "\n",
            "\u001b[0;30;47m  4, 0  \u001b[0;30;47m  4, 1  \u001b[0;30;47m  4, 2  \u001b[0;30;47m  4, 3  \u001b[0;37;42m  4, 4  \u001b[0;30;47m  4, 5  \u001b[0;37;41m  4, 6  \u001b[0;30;47m  4, 7  \u001b[0;30;47m  4, 8  \u001b[0;37;42m  4, 9  \n",
            "\n",
            "\u001b[0;30;47m  5, 0  \u001b[0;30;47m  5, 1  \u001b[0;30;47m  5, 2  \u001b[0;37;42m  5, 3  \u001b[0;30;47m  5, 4  \u001b[0;30;47m  5, 5  \u001b[0;37;42m  5, 6  \u001b[0;30;47m  5, 7  \u001b[0;30;47m  5, 8  \u001b[0;30;47m  5, 9  \n",
            "\n",
            "\u001b[0;37;41m  6, 0  \u001b[0;30;47m  6, 1  \u001b[0;30;47m  6, 2  \u001b[0;30;47m  6, 3  \u001b[0;30;47m  6, 4  \u001b[0;37;42m  6, 5  \u001b[0;37;42m  6, 6  \u001b[0;30;47m  6, 7  \u001b[0;30;47m  6, 8  \u001b[0;30;47m  6, 9  \n",
            "\n",
            "\u001b[0;37;42m  7, 0  \u001b[0;37;41m  7, 1  \u001b[0;37;42m  7, 2  \u001b[0;37;41m  7, 3  \u001b[0;37;42m  7, 4  \u001b[0;30;47m  7, 5  \u001b[0;30;47m  7, 6  \u001b[0;30;47m  7, 7  \u001b[0;30;47m  7, 8  \u001b[0;30;47m  7, 9  \n",
            "\n",
            "\u001b[0;37;41m  8, 0  \u001b[0;37;41m  8, 1  \u001b[0;30;47m  8, 2  \u001b[0;30;47m  8, 3  \u001b[0;30;47m  8, 4  \u001b[0;30;47m  8, 5  \u001b[0;30;47m  8, 6  \u001b[0;30;47m  8, 7  \u001b[0;30;47m  8, 8  \u001b[0;30;47m  8, 9  \n",
            "\n",
            "\u001b[0;30;47m  9, 0  \u001b[0;30;47m  9, 1  \u001b[0;37;41m  9, 2  \u001b[0;30;47m  9, 3  \u001b[0;30;47m  9, 4  \u001b[0;37;42m  9, 5  \u001b[0;30;47m  9, 6  \u001b[0;30;47m  9, 7  \u001b[0;30;47m  9, 8  \u001b[0;37;45m  9, 9  \n",
            "\n"
          ],
          "name": "stdout"
        }
      ]
    }
  ]
}